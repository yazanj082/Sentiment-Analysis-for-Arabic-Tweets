{
 "cells": [
  {
   "cell_type": "code",
   "execution_count": 1,
   "id": "d78eec6f",
   "metadata": {},
   "outputs": [],
   "source": [
    "import numpy as np\n",
    "import pandas as pd\n",
    "import matplotlib.pyplot as plt\n",
    "import seaborn as sns\n",
    "from sklearn.model_selection import train_test_split\n",
    "from nltk.corpus import stopwords\n",
    "from nltk.tokenize import word_tokenize\n",
    "import nltk\n",
    "from sklearn.feature_extraction.text import CountVectorizer\n",
    "from random import randint\n",
    "from sklearn.model_selection import RandomizedSearchCV\n",
    "from sklearn.metrics import confusion_matrix\n",
    "from arabicstemmer import ArabicStemmer\n",
    "from textblob import TextBlob\n",
    "import re"
   ]
  },
  {
   "cell_type": "code",
   "execution_count": 2,
   "id": "54961d6f",
   "metadata": {},
   "outputs": [
    {
     "data": {
      "text/html": [
       "<div>\n",
       "<style scoped>\n",
       "    .dataframe tbody tr th:only-of-type {\n",
       "        vertical-align: middle;\n",
       "    }\n",
       "\n",
       "    .dataframe tbody tr th {\n",
       "        vertical-align: top;\n",
       "    }\n",
       "\n",
       "    .dataframe thead th {\n",
       "        text-align: right;\n",
       "    }\n",
       "</style>\n",
       "<table border=\"1\" class=\"dataframe\">\n",
       "  <thead>\n",
       "    <tr style=\"text-align: right;\">\n",
       "      <th></th>\n",
       "      <th>Tweet</th>\n",
       "      <th>Sentiment</th>\n",
       "      <th>Sentiment_Expression</th>\n",
       "    </tr>\n",
       "  </thead>\n",
       "  <tbody>\n",
       "    <tr>\n",
       "      <th>0</th>\n",
       "      <td>\"أنا أؤمن بأن الانسان ينطفئ جماله عند ابتعاد م...</td>\n",
       "      <td>negative</td>\n",
       "      <td>implicit</td>\n",
       "    </tr>\n",
       "    <tr>\n",
       "      <th>1</th>\n",
       "      <td>من الذاكره... @3FInQe . عندما اعتقد كريستيانو ...</td>\n",
       "      <td>positive</td>\n",
       "      <td>explicit</td>\n",
       "    </tr>\n",
       "    <tr>\n",
       "      <th>2</th>\n",
       "      <td>لا نخلو من ضغوطات الحياة. فنحن نعيش على أرض أع...</td>\n",
       "      <td>neutral</td>\n",
       "      <td>none</td>\n",
       "    </tr>\n",
       "    <tr>\n",
       "      <th>3</th>\n",
       "      <td>#مصطلحات_لبنانيه_حيرت_البشريه بتوصل عالبيت ، ب...</td>\n",
       "      <td>negative</td>\n",
       "      <td>explicit</td>\n",
       "    </tr>\n",
       "    <tr>\n",
       "      <th>4</th>\n",
       "      <td>نصمت !! لتسير حياتنا على مً يرام فالناّس لم تع...</td>\n",
       "      <td>negative</td>\n",
       "      <td>explicit</td>\n",
       "    </tr>\n",
       "  </tbody>\n",
       "</table>\n",
       "</div>"
      ],
      "text/plain": [
       "                                               Tweet Sentiment  \\\n",
       "0  \"أنا أؤمن بأن الانسان ينطفئ جماله عند ابتعاد م...  negative   \n",
       "1  من الذاكره... @3FInQe . عندما اعتقد كريستيانو ...  positive   \n",
       "2  لا نخلو من ضغوطات الحياة. فنحن نعيش على أرض أع...   neutral   \n",
       "3  #مصطلحات_لبنانيه_حيرت_البشريه بتوصل عالبيت ، ب...  negative   \n",
       "4  نصمت !! لتسير حياتنا على مً يرام فالناّس لم تع...  negative   \n",
       "\n",
       "  Sentiment_Expression  \n",
       "0             implicit  \n",
       "1             explicit  \n",
       "2                 none  \n",
       "3             explicit  \n",
       "4             explicit  "
      ]
     },
     "execution_count": 2,
     "metadata": {},
     "output_type": "execute_result"
    }
   ],
   "source": [
    "path = r\"C:\\Users\\yazan\\Documents\\NAJAH\\NLP\\HWS\\HW1\\tweet_sentiment.csv\"\n",
    "df = pd.read_csv(path)\n",
    "df.head()"
   ]
  },
  {
   "cell_type": "code",
   "execution_count": 3,
   "id": "5e4dc9ee",
   "metadata": {},
   "outputs": [
    {
     "name": "stdout",
     "output_type": "stream",
     "text": [
      "['negative' 'positive' 'neutral' 'very_positive' 'very_negative']\n",
      "['negative' 'positive' 'neutral']\n"
     ]
    },
    {
     "data": {
      "text/html": [
       "<div>\n",
       "<style scoped>\n",
       "    .dataframe tbody tr th:only-of-type {\n",
       "        vertical-align: middle;\n",
       "    }\n",
       "\n",
       "    .dataframe tbody tr th {\n",
       "        vertical-align: top;\n",
       "    }\n",
       "\n",
       "    .dataframe thead th {\n",
       "        text-align: right;\n",
       "    }\n",
       "</style>\n",
       "<table border=\"1\" class=\"dataframe\">\n",
       "  <thead>\n",
       "    <tr style=\"text-align: right;\">\n",
       "      <th></th>\n",
       "      <th>Tweet</th>\n",
       "      <th>Sentiment</th>\n",
       "    </tr>\n",
       "  </thead>\n",
       "  <tbody>\n",
       "    <tr>\n",
       "      <th>0</th>\n",
       "      <td>\"أنا أؤمن بأن الانسان ينطفئ جماله عند ابتعاد م...</td>\n",
       "      <td>negative</td>\n",
       "    </tr>\n",
       "    <tr>\n",
       "      <th>1</th>\n",
       "      <td>من الذاكره... @3FInQe . عندما اعتقد كريستيانو ...</td>\n",
       "      <td>positive</td>\n",
       "    </tr>\n",
       "    <tr>\n",
       "      <th>2</th>\n",
       "      <td>لا نخلو من ضغوطات الحياة. فنحن نعيش على أرض أع...</td>\n",
       "      <td>neutral</td>\n",
       "    </tr>\n",
       "    <tr>\n",
       "      <th>3</th>\n",
       "      <td>#مصطلحات_لبنانيه_حيرت_البشريه بتوصل عالبيت ، ب...</td>\n",
       "      <td>negative</td>\n",
       "    </tr>\n",
       "    <tr>\n",
       "      <th>4</th>\n",
       "      <td>نصمت !! لتسير حياتنا على مً يرام فالناّس لم تع...</td>\n",
       "      <td>negative</td>\n",
       "    </tr>\n",
       "  </tbody>\n",
       "</table>\n",
       "</div>"
      ],
      "text/plain": [
       "                                               Tweet Sentiment\n",
       "0  \"أنا أؤمن بأن الانسان ينطفئ جماله عند ابتعاد م...  negative\n",
       "1  من الذاكره... @3FInQe . عندما اعتقد كريستيانو ...  positive\n",
       "2  لا نخلو من ضغوطات الحياة. فنحن نعيش على أرض أع...   neutral\n",
       "3  #مصطلحات_لبنانيه_حيرت_البشريه بتوصل عالبيت ، ب...  negative\n",
       "4  نصمت !! لتسير حياتنا على مً يرام فالناّس لم تع...  negative"
      ]
     },
     "execution_count": 3,
     "metadata": {},
     "output_type": "execute_result"
    }
   ],
   "source": [
    "print(df['Sentiment'].unique())\n",
    "df['Sentiment'] = df['Sentiment'].replace('very_positive','positive')\n",
    "df['Sentiment'] = df['Sentiment'].replace('very_negative','negative')\n",
    "print(df['Sentiment'].unique())\n",
    "df = df.drop('Sentiment_Expression', axis=1)\n",
    "df.head()"
   ]
  },
  {
   "cell_type": "code",
   "execution_count": 155,
   "id": "9f0d5447",
   "metadata": {},
   "outputs": [
    {
     "data": {
      "text/plain": [
       "negative    1883\n",
       "positive    1232\n",
       "neutral      885\n",
       "Name: Sentiment, dtype: int64"
      ]
     },
     "execution_count": 155,
     "metadata": {},
     "output_type": "execute_result"
    }
   ],
   "source": [
    "df['Sentiment'].value_counts()"
   ]
  },
  {
   "cell_type": "code",
   "execution_count": 114,
   "id": "dd7b38d3",
   "metadata": {},
   "outputs": [],
   "source": [
    "stemmer = ArabicStemmer()\n",
    "stop_words=stopwords.words('arabic')\n",
    "stemmed_stop_words = stemmer.stemWords(stop_words)\n",
    "def textblob_tokenizer(str_input):\n",
    "    str_no_number = re.sub(r'[^ء-ي\\s]+', '', str_input)\n",
    "    stemmed_word = stemmer.stemWord(str_no_number)\n",
    "    tokens = stemmed_word.split()\n",
    "    #words = [token for token in tokens]\n",
    "    words = [token for token in tokens if token not in stop_words and token not in stemmed_stop_words]\n",
    "    return words"
   ]
  },
  {
   "cell_type": "code",
   "execution_count": 115,
   "id": "d96c38bc",
   "metadata": {},
   "outputs": [
    {
     "name": "stdout",
     "output_type": "stream",
     "text": [
      "      ااعلم  اام  ابا  ابادة  ابارك  اباعبدالله  اباه  اببض  ابتاع  ابتخزي  \\\n",
      "0         0    0    1      0      0           0     0     0      0       0   \n",
      "1         0    0    0      0      0           0     0     0      0       0   \n",
      "2         0    0    0      0      0           0     0     0      0       0   \n",
      "3         0    0    0      0      0           0     0     0      0       0   \n",
      "4         0    0    0      0      0           0     0     0      0       0   \n",
      "...     ...  ...  ...    ...    ...         ...   ...   ...    ...     ...   \n",
      "2995      0    0    0      0      0           0     0     0      0       0   \n",
      "2996      0    0    0      0      0           0     0     0      0       0   \n",
      "2997      0    0    0      0      0           0     0     0      0       0   \n",
      "2998      0    0    0      0      0           0     0     0      0       0   \n",
      "2999      0    0    0      0      0           0     0     0      0       0   \n",
      "\n",
      "      ...  يومي  يوميا  يومين  يونان  يونس  يوووه  يي  ييجي  ييسر  ييمنا  \n",
      "0     ...     0      0      0      0     0      0   0     0     0      0  \n",
      "1     ...     0      0      0      0     0      0   0     0     0      0  \n",
      "2     ...     0      0      0      0     0      0   0     0     0      0  \n",
      "3     ...     0      0      0      0     0      0   0     0     0      0  \n",
      "4     ...     0      0      0      0     0      0   0     0     0      0  \n",
      "...   ...   ...    ...    ...    ...   ...    ...  ..   ...   ...    ...  \n",
      "2995  ...     0      0      0      0     0      0   0     0     0      0  \n",
      "2996  ...     0      0      0      0     0      0   0     0     0      0  \n",
      "2997  ...     0      0      0      0     0      0   0     0     0      0  \n",
      "2998  ...     0      0      0      0     0      0   0     0     0      0  \n",
      "2999  ...     0      0      0      0     0      0   0     0     0      0  \n",
      "\n",
      "[3000 rows x 17445 columns]\n"
     ]
    }
   ],
   "source": [
    "x = df['Tweet']\n",
    "y = df['Sentiment']\n",
    "x, x_test, y, y_test = train_test_split(x,y, stratify=y, test_size=0.25, random_state=42)\n",
    "vec = CountVectorizer(tokenizer=textblob_tokenizer)\n",
    "x = vec.fit_transform(x)\n",
    "x_test = vec.transform(x_test)\n",
    "results = pd.DataFrame(x.toarray(), columns=vec.get_feature_names_out())\n",
    "print(results)"
   ]
  },
  {
   "cell_type": "code",
   "execution_count": 153,
   "id": "a472fb2d",
   "metadata": {},
   "outputs": [
    {
     "name": "stdout",
     "output_type": "stream",
     "text": [
      "Wall time: 11 ms\n"
     ]
    },
    {
     "data": {
      "text/plain": [
       "MultinomialNB(alpha=3)"
      ]
     },
     "execution_count": 153,
     "metadata": {},
     "output_type": "execute_result"
    }
   ],
   "source": [
    "%%time\n",
    "from sklearn.naive_bayes import MultinomialNB\n",
    "\n",
    "model = MultinomialNB(alpha=3)\n",
    "model.fit(x, y)"
   ]
  },
  {
   "cell_type": "code",
   "execution_count": 154,
   "id": "4c2cf27b",
   "metadata": {},
   "outputs": [
    {
     "name": "stdout",
     "output_type": "stream",
     "text": [
      "0.682\n",
      "matrix:  [[409  20  42]\n",
      " [ 88  85  48]\n",
      " [ 85  35 188]]\n",
      "precision:  0.8229376257545271\n",
      "recall:  0.9533799533799534\n",
      "F1:  0.8833693304535637\n",
      "Wall time: 6 ms\n"
     ]
    }
   ],
   "source": [
    "%%time\n",
    "print(model.score(x_test, y_test))\n",
    "y_pred = model.predict(x_test)\n",
    "cf_matrix = confusion_matrix(y_test, y_pred)\n",
    "\n",
    "print(\"matrix: \",cf_matrix)\n",
    "print(\"precision: \",cf_matrix[0][0]/(cf_matrix[0][0]+cf_matrix[1][0]))\n",
    "print(\"recall: \",cf_matrix[0][0]/(cf_matrix[0][0]+cf_matrix[0][1]))\n",
    "print(\"F1: \",2*cf_matrix[0][0]/(2*cf_matrix[0][0]+cf_matrix[0][1]+cf_matrix[1][0]))\n",
    "pair1=(cf_matrix[0][0]/(cf_matrix[0][0]+cf_matrix[0][1]),cf_matrix[1][0]/(cf_matrix[1][0]+cf_matrix[1][1]))"
   ]
  },
  {
   "cell_type": "code",
   "execution_count": 8,
   "id": "b48e8818",
   "metadata": {},
   "outputs": [
    {
     "data": {
      "text/plain": [
       "array(['negative'], dtype='<U8')"
      ]
     },
     "execution_count": 8,
     "metadata": {},
     "output_type": "execute_result"
    }
   ],
   "source": [
    "model.predict(vec.transform([\"موقف مصري لافت .. السيسي رداً على سؤال بشأن ما إذا كانت القاهرة ستدرس اتخاذ إجراءات ضد حزب الله، قال لقناة CNBC: \"]))"
   ]
  },
  {
   "cell_type": "code",
   "execution_count": 116,
   "id": "6531ffbd",
   "metadata": {
    "scrolled": true
   },
   "outputs": [
    {
     "name": "stdout",
     "output_type": "stream",
     "text": [
      "['لاسيسي', 'ردا', 'سوال', 'بشان', 'كانت', 'القاهرة', 'ستدرس', 'اتخاذ', 'اجراءات', 'ضد', 'حزب', 'الله', 'قال', 'لقن']\n"
     ]
    }
   ],
   "source": [
    "print(textblob_tokenizer(\"148 أ۞  لأسيسي رداً على سؤال بشأن ما إذ كانت القاهرة ستدرس اتخاذ إجراءات ضد حزب الله، قال لقن اة\"))"
   ]
  },
  {
   "cell_type": "code",
   "execution_count": null,
   "id": "08c1f54d",
   "metadata": {},
   "outputs": [],
   "source": []
  }
 ],
 "metadata": {
  "kernelspec": {
   "display_name": "Python 3 (ipykernel)",
   "language": "python",
   "name": "python3"
  },
  "language_info": {
   "codemirror_mode": {
    "name": "ipython",
    "version": 3
   },
   "file_extension": ".py",
   "mimetype": "text/x-python",
   "name": "python",
   "nbconvert_exporter": "python",
   "pygments_lexer": "ipython3",
   "version": "3.9.13"
  }
 },
 "nbformat": 4,
 "nbformat_minor": 5
}
