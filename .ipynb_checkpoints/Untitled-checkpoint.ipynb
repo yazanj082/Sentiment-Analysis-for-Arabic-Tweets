{
 "cells": [
  {
   "cell_type": "code",
   "execution_count": 1,
   "id": "d78eec6f",
   "metadata": {},
   "outputs": [],
   "source": [
    "import numpy as np\n",
    "import pandas as pd\n",
    "import matplotlib.pyplot as plt\n",
    "import seaborn as sns\n",
    "from sklearn.model_selection import train_test_split\n",
    "from nltk.corpus import stopwords\n",
    "from nltk.tokenize import word_tokenize\n",
    "import nltk\n",
    "from sklearn.feature_extraction.text import CountVectorizer\n",
    "from sklearn.feature_extraction.text import TfidfVectorizer\n",
    "from random import randint\n",
    "from sklearn.model_selection import RandomizedSearchCV\n",
    "from sklearn.metrics import confusion_matrix\n",
    "from nltk.stem.isri import ISRIStemmer\n",
    "from textblob import TextBlob\n",
    "import re\n",
    "import Levenshtein\n",
    "import cupy as cp\n",
    "from sklearn.metrics import roc_auc_score"
   ]
  },
  {
   "cell_type": "markdown",
   "id": "785c99ac",
   "metadata": {},
   "source": [
    "<h1>Retrive the data</h1>"
   ]
  },
  {
   "cell_type": "code",
   "execution_count": 2,
   "id": "54961d6f",
   "metadata": {},
   "outputs": [
    {
     "data": {
      "text/html": [
       "<div>\n",
       "<style scoped>\n",
       "    .dataframe tbody tr th:only-of-type {\n",
       "        vertical-align: middle;\n",
       "    }\n",
       "\n",
       "    .dataframe tbody tr th {\n",
       "        vertical-align: top;\n",
       "    }\n",
       "\n",
       "    .dataframe thead th {\n",
       "        text-align: right;\n",
       "    }\n",
       "</style>\n",
       "<table border=\"1\" class=\"dataframe\">\n",
       "  <thead>\n",
       "    <tr style=\"text-align: right;\">\n",
       "      <th></th>\n",
       "      <th>Tweet</th>\n",
       "      <th>Sentiment</th>\n",
       "      <th>Sentiment_Expression</th>\n",
       "    </tr>\n",
       "  </thead>\n",
       "  <tbody>\n",
       "    <tr>\n",
       "      <th>0</th>\n",
       "      <td>\"أنا أؤمن بأن الانسان ينطفئ جماله عند ابتعاد م...</td>\n",
       "      <td>negative</td>\n",
       "      <td>implicit</td>\n",
       "    </tr>\n",
       "    <tr>\n",
       "      <th>1</th>\n",
       "      <td>من الذاكره... @3FInQe . عندما اعتقد كريستيانو ...</td>\n",
       "      <td>positive</td>\n",
       "      <td>explicit</td>\n",
       "    </tr>\n",
       "    <tr>\n",
       "      <th>2</th>\n",
       "      <td>لا نخلو من ضغوطات الحياة. فنحن نعيش على أرض أع...</td>\n",
       "      <td>neutral</td>\n",
       "      <td>none</td>\n",
       "    </tr>\n",
       "    <tr>\n",
       "      <th>3</th>\n",
       "      <td>#مصطلحات_لبنانيه_حيرت_البشريه بتوصل عالبيت ، ب...</td>\n",
       "      <td>negative</td>\n",
       "      <td>explicit</td>\n",
       "    </tr>\n",
       "    <tr>\n",
       "      <th>4</th>\n",
       "      <td>نصمت !! لتسير حياتنا على مً يرام فالناّس لم تع...</td>\n",
       "      <td>negative</td>\n",
       "      <td>explicit</td>\n",
       "    </tr>\n",
       "  </tbody>\n",
       "</table>\n",
       "</div>"
      ],
      "text/plain": [
       "                                               Tweet Sentiment  \\\n",
       "0  \"أنا أؤمن بأن الانسان ينطفئ جماله عند ابتعاد م...  negative   \n",
       "1  من الذاكره... @3FInQe . عندما اعتقد كريستيانو ...  positive   \n",
       "2  لا نخلو من ضغوطات الحياة. فنحن نعيش على أرض أع...   neutral   \n",
       "3  #مصطلحات_لبنانيه_حيرت_البشريه بتوصل عالبيت ، ب...  negative   \n",
       "4  نصمت !! لتسير حياتنا على مً يرام فالناّس لم تع...  negative   \n",
       "\n",
       "  Sentiment_Expression  \n",
       "0             implicit  \n",
       "1             explicit  \n",
       "2                 none  \n",
       "3             explicit  \n",
       "4             explicit  "
      ]
     },
     "execution_count": 2,
     "metadata": {},
     "output_type": "execute_result"
    }
   ],
   "source": [
    "path = r\"C:\\Users\\yazan\\Documents\\NAJAH\\NLP\\HWS\\HW1\\tweet_sentiment.csv\"\n",
    "df = pd.read_csv(path)\n",
    "df.head()"
   ]
  },
  {
   "cell_type": "markdown",
   "id": "8b8c4e10",
   "metadata": {},
   "source": [
    "<h1>Reduce the classes</h1>"
   ]
  },
  {
   "cell_type": "code",
   "execution_count": 3,
   "id": "5e4dc9ee",
   "metadata": {},
   "outputs": [
    {
     "name": "stdout",
     "output_type": "stream",
     "text": [
      "['negative' 'positive' 'neutral' 'very_positive' 'very_negative']\n",
      "['negative' 'positive' 'neutral']\n"
     ]
    },
    {
     "data": {
      "text/html": [
       "<div>\n",
       "<style scoped>\n",
       "    .dataframe tbody tr th:only-of-type {\n",
       "        vertical-align: middle;\n",
       "    }\n",
       "\n",
       "    .dataframe tbody tr th {\n",
       "        vertical-align: top;\n",
       "    }\n",
       "\n",
       "    .dataframe thead th {\n",
       "        text-align: right;\n",
       "    }\n",
       "</style>\n",
       "<table border=\"1\" class=\"dataframe\">\n",
       "  <thead>\n",
       "    <tr style=\"text-align: right;\">\n",
       "      <th></th>\n",
       "      <th>Tweet</th>\n",
       "      <th>Sentiment</th>\n",
       "    </tr>\n",
       "  </thead>\n",
       "  <tbody>\n",
       "    <tr>\n",
       "      <th>0</th>\n",
       "      <td>\"أنا أؤمن بأن الانسان ينطفئ جماله عند ابتعاد م...</td>\n",
       "      <td>negative</td>\n",
       "    </tr>\n",
       "    <tr>\n",
       "      <th>1</th>\n",
       "      <td>من الذاكره... @3FInQe . عندما اعتقد كريستيانو ...</td>\n",
       "      <td>positive</td>\n",
       "    </tr>\n",
       "    <tr>\n",
       "      <th>2</th>\n",
       "      <td>لا نخلو من ضغوطات الحياة. فنحن نعيش على أرض أع...</td>\n",
       "      <td>neutral</td>\n",
       "    </tr>\n",
       "    <tr>\n",
       "      <th>3</th>\n",
       "      <td>#مصطلحات_لبنانيه_حيرت_البشريه بتوصل عالبيت ، ب...</td>\n",
       "      <td>negative</td>\n",
       "    </tr>\n",
       "    <tr>\n",
       "      <th>4</th>\n",
       "      <td>نصمت !! لتسير حياتنا على مً يرام فالناّس لم تع...</td>\n",
       "      <td>negative</td>\n",
       "    </tr>\n",
       "  </tbody>\n",
       "</table>\n",
       "</div>"
      ],
      "text/plain": [
       "                                               Tweet Sentiment\n",
       "0  \"أنا أؤمن بأن الانسان ينطفئ جماله عند ابتعاد م...  negative\n",
       "1  من الذاكره... @3FInQe . عندما اعتقد كريستيانو ...  positive\n",
       "2  لا نخلو من ضغوطات الحياة. فنحن نعيش على أرض أع...   neutral\n",
       "3  #مصطلحات_لبنانيه_حيرت_البشريه بتوصل عالبيت ، ب...  negative\n",
       "4  نصمت !! لتسير حياتنا على مً يرام فالناّس لم تع...  negative"
      ]
     },
     "execution_count": 3,
     "metadata": {},
     "output_type": "execute_result"
    }
   ],
   "source": [
    "print(df['Sentiment'].unique())\n",
    "df['Sentiment'] = df['Sentiment'].replace('very_positive','positive')\n",
    "df['Sentiment'] = df['Sentiment'].replace('very_negative','negative')\n",
    "print(df['Sentiment'].unique())\n",
    "df = df.drop('Sentiment_Expression', axis=1)\n",
    "df.head()"
   ]
  },
  {
   "cell_type": "code",
   "execution_count": 4,
   "id": "9f0d5447",
   "metadata": {},
   "outputs": [
    {
     "data": {
      "text/plain": [
       "negative    1883\n",
       "positive    1232\n",
       "neutral      885\n",
       "Name: Sentiment, dtype: int64"
      ]
     },
     "execution_count": 4,
     "metadata": {},
     "output_type": "execute_result"
    }
   ],
   "source": [
    "df['Sentiment'].value_counts()"
   ]
  },
  {
   "cell_type": "markdown",
   "id": "3e2ea1cb",
   "metadata": {},
   "source": [
    "<h1>Check for null</h1>"
   ]
  },
  {
   "cell_type": "code",
   "execution_count": 5,
   "id": "c5e831b1",
   "metadata": {},
   "outputs": [
    {
     "data": {
      "text/plain": [
       "Tweet        False\n",
       "Sentiment    False\n",
       "dtype: bool"
      ]
     },
     "execution_count": 5,
     "metadata": {},
     "output_type": "execute_result"
    }
   ],
   "source": [
    "df.isnull().any(axis=0)"
   ]
  },
  {
   "cell_type": "markdown",
   "id": "b4db9f97",
   "metadata": {},
   "source": [
    "# remove punctuations"
   ]
  },
  {
   "cell_type": "code",
   "execution_count": 6,
   "id": "27ad3520",
   "metadata": {},
   "outputs": [],
   "source": [
    "arabic_punctuations = '''`÷×؛<>_()*&^%][ـ،/:\"؟.,'{}~¦+|!”…“–ـ'''\n",
    "english_punctuations = '!\"$%&\\'()*+,-./:;<=>?@[\\\\]^_`{|}~'\n",
    "punctuations_list = arabic_punctuations + english_punctuations\n",
    "\n",
    "def remove_punctuations(text):\n",
    "    translator = str.maketrans('', '', punctuations_list)\n",
    "    return text.translate(translator)"
   ]
  },
  {
   "cell_type": "markdown",
   "id": "bc1acdb4",
   "metadata": {},
   "source": [
    "# remove repeating charachters"
   ]
  },
  {
   "cell_type": "code",
   "execution_count": 7,
   "id": "20703944",
   "metadata": {},
   "outputs": [],
   "source": [
    "def remove_repeating_char(text):\n",
    "    return re.sub(r'(.)\\1+', r'\\1', text)"
   ]
  },
  {
   "cell_type": "markdown",
   "id": "c2cc99ad",
   "metadata": {},
   "source": [
    "# stemming ,change all urls into same feature, remove numbers apply all functions and tokenization"
   ]
  },
  {
   "cell_type": "code",
   "execution_count": 8,
   "id": "dd7b38d3",
   "metadata": {},
   "outputs": [],
   "source": [
    "stop_words=stopwords.words('arabic')\n",
    "stemmerar = ISRIStemmer()\n",
    "semmed_stop_words = [stemmerar.stem(word) for word in stop_words]\n",
    "def textblob_tokenizer(str_input):\n",
    "    str_no_url = re.sub(r'(https?://(?:www\\.)?\\S+)', '#رابط#', str_input)\n",
    "    str_no_punctuations = remove_punctuations(str_no_url)\n",
    "    str_no_number = re.sub(r'[a-zA-Z1-9]', '', str_no_punctuations)\n",
    "    stemmed_word = stemmerar.stem(str_no_number)\n",
    "    tokens = stemmed_word.split()\n",
    "    words = []\n",
    "    token_temp = ''\n",
    "    for token in tokens:\n",
    "        token_temp = remove_repeating_char(token)\n",
    "        if token_temp not in stop_words and token_temp not in semmed_stop_words:\n",
    "            words.append(token_temp)\n",
    "\n",
    "    return words"
   ]
  },
  {
   "cell_type": "markdown",
   "id": "c7747612",
   "metadata": {},
   "source": [
    "# splitting data into test and training and building the matrix"
   ]
  },
  {
   "cell_type": "code",
   "execution_count": 9,
   "id": "d96c38bc",
   "metadata": {},
   "outputs": [
    {
     "name": "stdout",
     "output_type": "stream",
     "text": [
      "Wall time: 2.22 s\n"
     ]
    }
   ],
   "source": [
    "%%time\n",
    "x = df['Tweet']\n",
    "y = df['Sentiment']\n",
    "x, x_test, y, y_test = train_test_split(x,y, stratify=y, test_size=0.3)\n",
    "\n",
    "vec = CountVectorizer(tokenizer=textblob_tokenizer)\n",
    "\n",
    "x = vec.fit_transform(x)\n",
    "x_test = vec.transform(x_test)\n"
   ]
  },
  {
   "cell_type": "markdown",
   "id": "7be2fcb1",
   "metadata": {},
   "source": [
    "# building the model"
   ]
  },
  {
   "cell_type": "code",
   "execution_count": 10,
   "id": "a472fb2d",
   "metadata": {},
   "outputs": [
    {
     "name": "stdout",
     "output_type": "stream",
     "text": [
      "Wall time: 12 ms\n"
     ]
    },
    {
     "data": {
      "text/plain": [
       "MultinomialNB()"
      ]
     },
     "execution_count": 10,
     "metadata": {},
     "output_type": "execute_result"
    }
   ],
   "source": [
    "%%time\n",
    "from sklearn.naive_bayes import MultinomialNB\n",
    "model = MultinomialNB()\n",
    "\n",
    "model.fit(x, y)"
   ]
  },
  {
   "cell_type": "markdown",
   "id": "8593a04b",
   "metadata": {},
   "source": [
    "# test the model and print the model accurices"
   ]
  },
  {
   "cell_type": "code",
   "execution_count": 11,
   "id": "4c2cf27b",
   "metadata": {},
   "outputs": [
    {
     "name": "stdout",
     "output_type": "stream",
     "text": [
      "0.705\n",
      "              precision    recall  f1-score   support\n",
      "\n",
      "    negative       0.73      0.83      0.78       565\n",
      "     neutral       0.60      0.49      0.54       265\n",
      "    positive       0.73      0.66      0.69       370\n",
      "\n",
      "    accuracy                           0.70      1200\n",
      "   macro avg       0.68      0.66      0.67      1200\n",
      "weighted avg       0.70      0.70      0.70      1200\n",
      "\n",
      "matrix:  [[470  50  45]\n",
      " [ 87 130  48]\n",
      " [ 86  38 246]]\n",
      "AUC: 0.8321617710547415\n",
      "Wall time: 34 ms\n"
     ]
    }
   ],
   "source": [
    "%%time\n",
    "from sklearn.metrics import classification_report\n",
    "print(model.score(x_test, y_test))\n",
    "y_pred = model.predict(x_test)\n",
    "cf_matrix = confusion_matrix(y_test, y_pred)\n",
    "print(classification_report(y_test, y_pred))\n",
    "print(\"matrix: \",cf_matrix)\n",
    "y_prob = model.predict_proba(x_test)\n",
    "auc = roc_auc_score(y_test, y_prob, multi_class='ovo')\n",
    "print(\"AUC:\", auc)"
   ]
  },
  {
   "cell_type": "code",
   "execution_count": null,
   "id": "ba2fb029",
   "metadata": {},
   "outputs": [],
   "source": []
  }
 ],
 "metadata": {
  "kernelspec": {
   "display_name": "Python 3 (ipykernel)",
   "language": "python",
   "name": "python3"
  },
  "language_info": {
   "codemirror_mode": {
    "name": "ipython",
    "version": 3
   },
   "file_extension": ".py",
   "mimetype": "text/x-python",
   "name": "python",
   "nbconvert_exporter": "python",
   "pygments_lexer": "ipython3",
   "version": "3.9.13"
  }
 },
 "nbformat": 4,
 "nbformat_minor": 5
}
